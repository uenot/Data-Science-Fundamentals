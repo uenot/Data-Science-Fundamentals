{
 "cells": [
  {
   "cell_type": "markdown",
   "metadata": {},
   "source": [
    "# Worksheet 08\n",
    "\n",
    "Name: Toby Ueno\n",
    "UID: U23639106\n",
    "\n",
    "### Topics\n",
    "\n",
    "- Soft Clustering\n",
    "- Clustering Aggregation\n",
    "\n",
    "### Probability Review\n",
    "\n",
    "Read through [the following](https://medium.com/@gallettilance/overview-of-probability-3272b72c82c8)\n",
    "\n",
    "### Soft Clustering\n",
    "\n",
    "We generate 10 data points that come from a normal distribution with mean 5 and variance 1."
   ]
  },
  {
   "cell_type": "code",
   "execution_count": 24,
   "metadata": {},
   "outputs": [
    {
     "name": "stdout",
     "output_type": "stream",
     "text": [
      "[5.625369379780688, 5.593499764776039, 3.656993839764148, 6.169565777469046, 3.6257096340860007, 3.6184872133395607, 4.430368527670962, 3.6081139526849286, 3.802138172773215, 5.286872913255044]\n"
     ]
    }
   ],
   "source": [
    "import random\n",
    "import numpy as np\n",
    "from sklearn.cluster import KMeans\n",
    "\n",
    "mean = 5\n",
    "stdev = 1\n",
    "\n",
    "s1 = np.random.normal(mean, stdev, 10).tolist()\n",
    "print(s1)"
   ]
  },
  {
   "cell_type": "markdown",
   "metadata": {},
   "source": [
    "a) Generate 10 more data points, this time coming from a normal distribution with mean 8 and variance 1."
   ]
  },
  {
   "cell_type": "code",
   "execution_count": 25,
   "metadata": {},
   "outputs": [
    {
     "name": "stdout",
     "output_type": "stream",
     "text": [
      "[8.881896886883743, 9.108461654011254, 6.99193023750115, 9.047805376761723, 8.853389035537289, 8.083528309671033, 9.020415302602558, 7.5284488233713, 9.39915206906757, 9.488320403246501]\n"
     ]
    }
   ],
   "source": [
    "s2 = np.random.normal(8, 1, 10).tolist()\n",
    "print(s2)"
   ]
  },
  {
   "cell_type": "markdown",
   "metadata": {},
   "source": [
    "b) Flip a fair coin 10 times. If the coin lands on H, then pick the last data point of `c1` and remove it from `c1`, if T then pick the last data point from `c2` and remove it from `c2`. Add these 10 points to a list called `data`."
   ]
  },
  {
   "cell_type": "code",
   "execution_count": 26,
   "metadata": {},
   "outputs": [
    {
     "name": "stdout",
     "output_type": "stream",
     "text": [
      "[9.488320403246501, 9.39915206906757, 5.286872913255044, 3.802138172773215, 7.5284488233713, 3.6081139526849286, 4.430368527670962, 3.6184872133395607, 3.6257096340860007, 9.020415302602558]\n"
     ]
    }
   ],
   "source": [
    "data = []\n",
    "for i in range(10):\n",
    "    coin_output = random.choice([0, 1])\n",
    "    if coin_output == 0:\n",
    "        p1 = s1.pop()\n",
    "        data.append(p1)\n",
    "    else:\n",
    "        p2 = s2.pop()\n",
    "        data.append(p2)\n",
    "print(data)"
   ]
  },
  {
   "cell_type": "markdown",
   "metadata": {},
   "source": [
    "c) This `data` is a Gaussian Mixture Distribution with 2 mixture components. Over the next few questions we will walk through the GMM algorithm to see if we can uncover the parameters we used to generate this data. First, please list all these parameters of the GMM that created `data` and the values we know they have."
   ]
  },
  {
   "cell_type": "markdown",
   "metadata": {},
   "source": [
    "$\\mu_1=5, \\mu_2=8, \\sigma_1=\\sigma_2=1, p=0.5$"
   ]
  },
  {
   "cell_type": "markdown",
   "metadata": {},
   "source": [
    "d) Let's assume there are two mixture components (note: we could plot the data and make the observation that there are two clusters). The EM algorithm asks us to start with a random `mean_j`, `variance_j`, `P(S_j)` for each component j. One method we could use to find sensible values for these is to apply K means with k=2 here.\n",
    "\n",
    "1. the centroids would be the estimates of the `mean_j`\n",
    "2. the intra-cluster variance could be the estimate of `variance_j`\n",
    "3. the proportion of points in each cluster could be the estimate of `P(S_j)`\n",
    "\n",
    "Go through this process and list the parameter estimates it gives. Are they close or far from the true values?"
   ]
  },
  {
   "cell_type": "code",
   "execution_count": 27,
   "metadata": {},
   "outputs": [
    {
     "name": "stdout",
     "output_type": "stream",
     "text": [
      "[5.286872913255044, 3.802138172773215, 3.6081139526849286, 4.430368527670962, 3.6184872133395607, 3.6257096340860007]\n",
      "[9.488320403246501, 9.39915206906757, 7.5284488233713, 9.020415302602558]\n",
      "P(S_1) = 0.6,  P(S_2) = 0.4\n",
      "mean_1 = 4.061948402301618,  mean_2 = 8.859084149571983\n",
      "var_1 = 0.3827670997246763,  var_2 = 23.6335688109587\n"
     ]
    }
   ],
   "source": [
    "kmeans = KMeans(2, init='k-means++').fit(X=np.array(data).reshape(-1, 1))\n",
    "\n",
    "s1 = [x[0] for x in filter(lambda x: x[1] == 0, zip(data, kmeans.labels_))]\n",
    "print(s1)\n",
    "s2 = [x[0] for x in filter(lambda x: x[1] == 1, zip(data, kmeans.labels_))]\n",
    "print(s2)\n",
    "\n",
    "prob_s = [ len(s1) / (len(s1) + len(s2)) , len(s2) / (len(s1) + len(s2)) ]\n",
    "mean = [ sum(s1)/len(s1) , sum(s2)/len(s2) ]\n",
    "var = [ sum(map(lambda x : (x - mean[0])**2, s1)) / len(s1) , sum(map(lambda x : (x - mean[0])**2, s2)) / len(s2) ]\n",
    "\n",
    "print(\"P(S_1) = \" + str(prob_s[0]) + \",  P(S_2) = \" + str(prob_s[1]))\n",
    "print(\"mean_1 = \" + str(mean[0]) + \",  mean_2 = \" + str(mean[1]))\n",
    "print(\"var_1 = \" + str(var[0]) + \",  var_2 = \" + str(var[1]))"
   ]
  },
  {
   "cell_type": "markdown",
   "metadata": {},
   "source": [
    "Means are fairly close, variances are not"
   ]
  },
  {
   "cell_type": "markdown",
   "metadata": {},
   "source": [
    "e) For each data point, compute `P(S_j | X_i)`. Comment on which cluster you think each point belongs to based on the estimated probabilities. How does that compare to the truth?"
   ]
  },
  {
   "cell_type": "code",
   "execution_count": 28,
   "metadata": {},
   "outputs": [
    {
     "name": "stdout",
     "output_type": "stream",
     "text": [
      "point =  9.488320403246501\n",
      "probability of observing that point if it came from cluster 0 =  2.3769292280640694e-44\n",
      "probability of observing that point if it came from cluster 1 =  0.016874341272947554\n",
      "point =  9.39915206906757\n",
      "probability of observing that point if it came from cluster 0 =  6.288056640283848e-43\n",
      "probability of observing that point if it came from cluster 1 =  0.016875916331263525\n",
      "point =  5.286872913255044\n",
      "probability of observing that point if it came from cluster 0 =  0.006224927692826825\n",
      "probability of observing that point if it came from cluster 1 =  0.01668859401754535\n",
      "point =  3.802138172773215\n",
      "probability of observing that point if it came from cluster 0 =  0.8278086374581849\n",
      "probability of observing that point if it came from cluster 1 =  0.016498284595000856\n",
      "point =  7.5284488233713\n",
      "probability of observing that point if it came from cluster 0 =  1.613702267610116e-18\n",
      "probability of observing that point if it came from cluster 1 =  0.016853589087795585\n",
      "point =  3.6081139526849286\n",
      "probability of observing that point if it came from cluster 0 =  0.5160696787400255\n",
      "probability of observing that point if it came from cluster 1 =  0.016468773298288233\n",
      "point =  4.430368527670962\n",
      "probability of observing that point if it came from cluster 0 =  0.655845413706391\n",
      "probability of observing that point if it came from cluster 1 =  0.01658653071552777\n",
      "point =  3.6184872133395607\n",
      "probability of observing that point if it came from cluster 0 =  0.532725880674341\n",
      "probability of observing that point if it came from cluster 1 =  0.016470377834232997\n",
      "point =  3.6257096340860007\n",
      "probability of observing that point if it came from cluster 0 =  0.5444030842412765\n",
      "probability of observing that point if it came from cluster 1 =  0.016471493216734294\n",
      "point =  9.020415302602558\n",
      "probability of observing that point if it came from cluster 0 =  3.78305603954828e-37\n",
      "probability of observing that point if it came from cluster 1 =  0.016879929921630784\n",
      "9.488320403246501\n",
      "Probability of coming from S_1 = 2.1129084593139278e-42\n",
      "Probability of coming from S_2 = 1.0\n",
      "\n",
      "9.39915206906757\n",
      "Probability of coming from S_1 = 5.589080186983587e-41\n",
      "Probability of coming from S_2 = 1.0\n",
      "\n",
      "5.286872913255044\n",
      "Probability of coming from S_1 = 0.3587718712464189\n",
      "Probability of coming from S_2 = 0.6412281287535812\n",
      "\n",
      "3.802138172773215\n",
      "Probability of coming from S_1 = 0.9868875081860313\n",
      "Probability of coming from S_2 = 0.013112491813968567\n",
      "\n",
      "7.5284488233713\n",
      "Probability of coming from S_1 = 1.4362242895597837e-16\n",
      "Probability of coming from S_2 = 0.9999999999999999\n",
      "\n",
      "3.6081139526849286\n",
      "Probability of coming from S_1 = 0.9791685685852721\n",
      "Probability of coming from S_2 = 0.020831431414727885\n",
      "\n",
      "4.430368527670962\n",
      "Probability of coming from S_1 = 0.983419349633267\n",
      "Probability of coming from S_2 = 0.016580650366732987\n",
      "\n",
      "3.6184872133395607\n",
      "Probability of coming from S_1 = 0.9798048040442148\n",
      "Probability of coming from S_2 = 0.020195195955785204\n",
      "\n",
      "3.6257096340860007\n",
      "Probability of coming from S_1 = 0.9802281054160271\n",
      "Probability of coming from S_2 = 0.01977189458397296\n",
      "\n",
      "9.020415302602558\n",
      "Probability of coming from S_1 = 3.36173437073973e-35\n",
      "Probability of coming from S_2 = 1.0\n",
      "\n"
     ]
    }
   ],
   "source": [
    "from scipy.stats import norm\n",
    "\n",
    "prob_s0_x = [] # P(S_0 | X_i)\n",
    "prob_s1_x = [] # P(S_1 | X_i)\n",
    "prob_x = [] # P(X_i)\n",
    "\n",
    "k = 2\n",
    "\n",
    "for p in data:\n",
    "    print(\"point = \", p)\n",
    "    pdf_i = []\n",
    "\n",
    "    for j in range(k):\n",
    "        # P(X_i | S_j)\n",
    "        pdf_i.append(norm.pdf(p, mean[j], var[j]))\n",
    "        print(\"probability of observing that point if it came from cluster \" + str(j) + \" = \", pdf_i[j])\n",
    "        # P(S_j) already computed\n",
    "        prob_s[j]\n",
    "\n",
    "    # P(X_i) = P(S_0)P(X_i | S_0) + P(S_1)P(X_i | S_1)\n",
    "    prob_x = prob_s[0] * pdf_i[0] + prob_s[1] * pdf_i[1]\n",
    "\n",
    "    # P(S_j | X_i) = P(X_i | S_j)P(S_j) / P(X_i)\n",
    "    prob_s0_x.append( (pdf_i[0] * prob_s[0]) / prob_x )\n",
    "    prob_s1_x.append( (pdf_i[1] * prob_s[1]) / prob_x )\n",
    "\n",
    "probs = zip(data, prob_s0_x, prob_s1_x)\n",
    "for p in probs:\n",
    "    print(p[0])\n",
    "    print(\"Probability of coming from S_1 = \" + str(p[1]))\n",
    "    print(\"Probability of coming from S_2 = \" + str(p[2]))\n",
    "    print()\n"
   ]
  },
  {
   "cell_type": "markdown",
   "metadata": {},
   "source": [
    "f) Having computed `P(S_j | X_i)`, update the estimates of `mean_j`, `var_j`, and `P(S_j)`. How different are these values from the original ones you got from K means? briefly comment."
   ]
  },
  {
   "cell_type": "code",
   "execution_count": 29,
   "metadata": {},
   "outputs": [
    {
     "name": "stdout",
     "output_type": "stream",
     "text": [
      "P(S_1) = 0.6,  P(S_2) = 0.4\n",
      "mean_1 = 3.9174756646869193,  mean_2 = 8.27810378054405\n",
      "var_1 = 0.22955428300530673,  var_2 = 21.42449096436387\n"
     ]
    }
   ],
   "source": [
    "prob_c = [sum(prob_s0_x)/ len(prob_s0_x), sum(prob_s1_x)/ len(prob_s1_x) ]\n",
    "mean = [sum([x[0] * x[1] for x in zip(prob_s0_x, data)]) / sum(prob_s0_x), sum([x[0] * x[1] for x in zip(prob_s1_x, data)]) / sum(prob_s1_x) ]\n",
    "var = [sum([x[0] * ((x[1] - mean[0]) ** 2) for x in zip(prob_s0_x, data)]) / sum(prob_s0_x), sum([x[0] * ((x[1] - mean[0]) ** 2) for x in zip(prob_s1_x, data)]) / sum(prob_s1_x)]\n",
    "\n",
    "print(\"P(S_1) = \" + str(prob_s[0]) + \",  P(S_2) = \" + str(prob_s[1]))\n",
    "print(\"mean_1 = \" + str(mean[0]) + \",  mean_2 = \" + str(mean[1]))\n",
    "print(\"var_1 = \" + str(var[0]) + \",  var_2 = \" + str(var[1]))"
   ]
  },
  {
   "cell_type": "markdown",
   "metadata": {},
   "source": [
    "Means are closer to true values, variances and probabilities are not"
   ]
  },
  {
   "cell_type": "markdown",
   "metadata": {},
   "source": [
    "g) Update `P(S_j | X_i)`. Comment on any differences or lack thereof you observe."
   ]
  },
  {
   "cell_type": "code",
   "execution_count": 30,
   "metadata": {},
   "outputs": [
    {
     "name": "stdout",
     "output_type": "stream",
     "text": [
      "point =  9.488320403246501\n",
      "probability of observing that point if it came from cluster 0 =  2.2555523824574032e-128\n",
      "probability of observing that point if it came from cluster 1 =  0.018591167826144825\n",
      "point =  9.39915206906757\n",
      "probability of observing that point if it came from cluster 0 =  2.5969502416150565e-124\n",
      "probability of observing that point if it came from cluster 1 =  0.018595378068571925\n",
      "point =  5.286872913255044\n",
      "probability of observing that point if it came from cluster 0 =  3.254348875680212e-08\n",
      "probability of observing that point if it came from cluster 1 =  0.018440245600310677\n",
      "point =  3.802138172773215\n",
      "probability of observing that point if it came from cluster 0 =  1.5318156318776226\n",
      "probability of observing that point if it came from cluster 1 =  0.018218883990661617\n",
      "point =  7.5284488233713\n",
      "probability of observing that point if it came from cluster 0 =  3.222142400002283e-54\n",
      "probability of observing that point if it came from cluster 1 =  0.01860945659964938\n",
      "point =  3.6081139526849286\n",
      "probability of observing that point if it came from cluster 0 =  0.7008790354930369\n",
      "probability of observing that point if it came from cluster 1 =  0.018183700729030156\n",
      "point =  4.430368527670962\n",
      "probability of observing that point if it came from cluster 0 =  0.14322071385262045\n",
      "probability of observing that point if it came from cluster 1 =  0.018322958322239007\n",
      "point =  3.6184872133395607\n",
      "probability of observing that point if it came from cluster 0 =  0.7441282713697484\n",
      "probability of observing that point if it came from cluster 1 =  0.018185617776027237\n",
      "point =  3.6257096340860007\n",
      "probability of observing that point if it came from cluster 0 =  0.774872073713995\n",
      "probability of observing that point if it came from cluster 1 =  0.01818695012870629\n",
      "point =  9.020415302602558\n",
      "probability of observing that point if it came from cluster 0 =  8.588808373999956e-108\n",
      "probability of observing that point if it came from cluster 1 =  0.018609678697109024\n",
      "9.488320403246501\n",
      "Probability of coming from S_1 = 1.8198580128614176e-126\n",
      "Probability of coming from S_2 = 1.0\n",
      "\n",
      "9.39915206906757\n",
      "Probability of coming from S_1 = 2.0948352585561291e-122\n",
      "Probability of coming from S_2 = 1.0\n",
      "\n",
      "5.286872913255044\n",
      "Probability of coming from S_1 = 2.6472046505968757e-06\n",
      "Probability of coming from S_2 = 0.9999973527953494\n",
      "\n",
      "3.802138172773215\n",
      "Probability of coming from S_1 = 0.9921332738987306\n",
      "Probability of coming from S_2 = 0.00786672610126941\n",
      "\n",
      "7.5284488233713\n",
      "Probability of coming from S_1 = 2.5971814782031234e-52\n",
      "Probability of coming from S_2 = 1.0\n",
      "\n",
      "3.6081139526849286\n",
      "Probability of coming from S_1 = 0.9829979781140655\n",
      "Probability of coming from S_2 = 0.01700202188593449\n",
      "\n",
      "4.430368527670962\n",
      "Probability of coming from S_1 = 0.921412645567929\n",
      "Probability of coming from S_2 = 0.07858735443207096\n",
      "\n",
      "3.6184872133395607\n",
      "Probability of coming from S_1 = 0.9839686441574517\n",
      "Probability of coming from S_2 = 0.0160313558425483\n",
      "\n",
      "3.6257096340860007\n",
      "Probability of coming from S_1 = 0.9845937939647739\n",
      "Probability of coming from S_2 = 0.015406206035226092\n",
      "\n",
      "9.020415302602558\n",
      "Probability of coming from S_1 = 6.922855988374111e-106\n",
      "Probability of coming from S_2 = 1.0\n",
      "\n"
     ]
    }
   ],
   "source": [
    "from scipy.stats import norm\n",
    "\n",
    "prob_s0_x = [] # P(S_0 | X_i)\n",
    "prob_s1_x = [] # P(S_1 | X_i)\n",
    "prob_x = [] # P(X_i)\n",
    "\n",
    "k = 2\n",
    "\n",
    "for p in data:\n",
    "    print(\"point = \", p)\n",
    "    pdf_i = []\n",
    "\n",
    "    for j in range(k):\n",
    "        # P(X_i | S_j)\n",
    "        pdf_i.append(norm.pdf(p, mean[j], var[j]))\n",
    "        print(\"probability of observing that point if it came from cluster \" + str(j) + \" = \", pdf_i[j])\n",
    "        # P(S_j) already computed\n",
    "        prob_s[j]\n",
    "\n",
    "    # P(X_i) = P(S_0)P(X_i | S_0) + P(S_1)P(X_i | S_1)\n",
    "    prob_x = prob_s[0] * pdf_i[0] + prob_s[1] * pdf_i[1]\n",
    "\n",
    "    # P(S_j | X_i) = P(X_i | S_j)P(S_j) / P(X_i)\n",
    "    prob_s0_x.append( (pdf_i[0] * prob_s[0]) / prob_x )\n",
    "    prob_s1_x.append( (pdf_i[1] * prob_s[1]) / prob_x )\n",
    "\n",
    "probs = zip(data, prob_s0_x, prob_s1_x)\n",
    "for p in probs:\n",
    "    print(p[0])\n",
    "    print(\"Probability of coming from S_1 = \" + str(p[1]))\n",
    "    print(\"Probability of coming from S_2 = \" + str(p[2]))\n",
    "    print()"
   ]
  },
  {
   "cell_type": "markdown",
   "metadata": {},
   "source": [
    "The probabilities of each point are more polarized"
   ]
  },
  {
   "cell_type": "markdown",
   "metadata": {},
   "source": [
    "h) Use `P(S_j | X_i)` to create a hard assignment - label each point as belonging to a specific cluster (0 or 1)"
   ]
  },
  {
   "cell_type": "code",
   "execution_count": 33,
   "metadata": {},
   "outputs": [
    {
     "name": "stdout",
     "output_type": "stream",
     "text": [
      "[(9.488320403246501, 1), (9.39915206906757, 1), (5.286872913255044, 1), (3.802138172773215, 0), (7.5284488233713, 1), (3.6081139526849286, 0), (4.430368527670962, 0), (3.6184872133395607, 0), (3.6257096340860007, 0), (9.020415302602558, 1)]\n"
     ]
    }
   ],
   "source": [
    "assigns = [(x[0], 0 if x[1] > x[2] else 1) for x in zip(data, prob_s0_x, prob_s1_x)]\n",
    "print(assigns)"
   ]
  },
  {
   "cell_type": "code",
   "execution_count": null,
   "metadata": {},
   "outputs": [],
   "source": []
  }
 ],
 "metadata": {
  "kernelspec": {
   "display_name": "Python 3 (ipykernel)",
   "language": "python",
   "name": "python3"
  },
  "language_info": {
   "codemirror_mode": {
    "name": "ipython",
    "version": 3
   },
   "file_extension": ".py",
   "mimetype": "text/x-python",
   "name": "python",
   "nbconvert_exporter": "python",
   "pygments_lexer": "ipython3",
   "version": "3.9.7"
  },
  "vscode": {
   "interpreter": {
    "hash": "e7370f93d1d0cde622a1f8e1c04877d8463912d04d973331ad4851f04de6915a"
   }
  }
 },
 "nbformat": 4,
 "nbformat_minor": 2
}
